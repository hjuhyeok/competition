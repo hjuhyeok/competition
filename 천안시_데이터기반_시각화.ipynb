{
 "cells": [
  {
   "cell_type": "markdown",
   "id": "d5744786",
   "metadata": {},
   "source": [
    "# 라이브러리 불러오기"
   ]
  },
  {
   "cell_type": "code",
   "execution_count": 1,
   "id": "1842aba8",
   "metadata": {},
   "outputs": [],
   "source": [
    "import pandas as pd\n",
    "import os\n",
    "import numpy as np\n",
    "import win32com.client as win32\n",
    "from sklearn.preprocessing import MinMaxScaler\n",
    "pd.set_option('mode.chained_assignment',  None)\n",
    "from functools import reduce\n",
    "\n",
    "from sklearn.cluster import KMeans\n",
    "import matplotlib.pyplot as plt\n",
    "from sklearn.metrics import silhouette_samples\n",
    "import matplotlib as mpl\n",
    "import seaborn as sns\n",
    "from datetime import timedelta\n",
    "from datetime import datetime\n",
    "from sklearn.decomposition import PCA\n",
    "from mpl_toolkits.mplot3d import Axes3D\n",
    "\n",
    "\n",
    "\n",
    "%matplotlib inline\n",
    "plt.style.use('ggplot')\n",
    "plt.rcParams['font.family']='Malgun Gothic'\n",
    "mpl.rcParams['axes.unicode_minus']=False"
   ]
  },
  {
   "cell_type": "markdown",
   "id": "cb11238f",
   "metadata": {},
   "source": [
    "# TAAS에 제공되는 XLS파일 XLSX파일로 변환"
   ]
  },
  {
   "cell_type": "code",
   "execution_count": 2,
   "id": "5709a8f1",
   "metadata": {},
   "outputs": [],
   "source": [
    "year=['2020','2021']\n",
    "for q in year:\n",
    "    filename1= os.listdir(f'C:\\\\Users\\\\User\\\\Desktop\\\\천안10.14\\\\v0.1_사고\\\\세부지표xls파일\\\\{q}')\n",
    "    for i in filename1:\n",
    "        for w in range(len(os.listdir(f'C:\\\\Users\\\\User\\\\Desktop\\\\천안10.14\\\\v0.1_사고\\\\세부지표xls파일\\\\{q}/{i}'))):\n",
    "            filename2=os.listdir(f'C:\\\\Users\\\\User\\\\Desktop\\\\천안10.14\\\\v0.1_사고\\\\세부지표xls파일\\\\{q}/{i}') \n",
    "            if filename2[w][-3:]=='xls':\n",
    "                fname = f\"C:\\\\Users\\\\User\\\\Desktop\\\\천안10.14\\\\v0.1_사고\\\\세부지표xls파일\\\\{q}\\\\{i}\\\\{i}_{filename2[w][-6:-4]}.xls\"\n",
    "                excel = win32.gencache.EnsureDispatch('Excel.Application')\n",
    "                wb = excel.Workbooks.Open(fname)\n",
    "                fname=f\"C:\\\\Users\\\\User\\\\Desktop\\\\천안10.14\\\\v0.1_사고\\\\세부지표xlsx파일\\\\{q}\\\\{i}\\\\{i}_{filename2[w][-6:-4]}.xls\"\n",
    "                wb.SaveAs(fname+\"x\", FileFormat = 51) #FileFormat = 51 is for .xlsx extension\n",
    "                wb.Close() #FileFormat = 56 is for .xls extension\n",
    "                excel.Application.Quit()\n",
    "            else:\n",
    "                continue"
   ]
  },
  {
   "cell_type": "markdown",
   "id": "cbaae0f2",
   "metadata": {},
   "source": [
    "# 최종세부지표(행정동 : 사망자수, 중상자수, 경상자수, 부상신고자수)"
   ]
  },
  {
   "cell_type": "code",
   "execution_count": 3,
   "id": "5fb12bf4",
   "metadata": {},
   "outputs": [],
   "source": [
    "year=['2017','2018','2019']\n",
    "for q in year:\n",
    "    os.chdir(f'C:\\\\Users\\\\User\\\\Desktop\\\\천안10.14\\\\v0.1_사고\\\\세부지표완료\\\\{q}')\n",
    "    filename3=os.listdir(f'C:\\\\Users\\\\User\\\\Desktop\\\\천안10.14\\\\v0.1_사고\\\\세부지표xlsx파일\\\\{q}') \n",
    "    data=pd.read_csv(f'C:\\\\Users\\\\User\\\\Desktop\\\\천안10.14\\\\v0.1_사고\\\\사고데이터 행정동변환\\\\{q}최종.csv')\n",
    "    for i in filename3:\n",
    "        os.chdir(f'C:\\\\Users\\\\User\\\\Desktop\\\\천안10.14\\\\v0.1_사고\\\\세부지표완료\\\\{q}\\\\{i}')\n",
    "        for w in range(len(os.listdir(f'C:\\\\Users\\\\User\\\\Desktop\\\\천안10.14\\\\v0.1_사고\\\\세부지표xlsx파일\\\\{q}/{i}'))):\n",
    "            filename4=os.listdir(f'C:\\\\Users\\\\User\\\\Desktop\\\\천안10.14\\\\v0.1_사고\\\\세부지표xlsx파일\\\\{q}/{i}') \n",
    "            if filename4[w][-4:]=='xlsx':\n",
    "                acc=pd.read_excel(f'C:\\\\Users\\\\User\\\\Desktop\\\\천안10.14\\\\v0.1_사고\\\\세부지표xlsx파일\\\\{q}\\\\{i}\\\\{i}_{filename4[w][-7:-5]}.xlsx')\n",
    "                acc['사고건수']=1\n",
    "                total=pd.merge(acc,data,how='left',on=list(acc[acc.columns.difference(['사고번호', '행정동','사고건수','피해운전자 차종',\n",
    "                                                                                  '피해운전자 성별','피해운전자 연령','피해운전자 상해정도'])].columns))  \n",
    "                total=total[['행정동','사고건수','사망자수','중상자수','경상자수','부상신고자수']]\n",
    "                total=total.groupby('행정동').sum()\n",
    "                total.to_csv(f'{i}_{filename4[w][-7:-5]}_{q}.csv',encoding='utf-8-sig')\n",
    "            else:\n",
    "                continue"
   ]
  },
  {
   "cell_type": "markdown",
   "id": "8f82f964",
   "metadata": {},
   "source": [
    "# 도로연장 구하기"
   ]
  },
  {
   "cell_type": "code",
   "execution_count": 4,
   "id": "dbeca1bf",
   "metadata": {},
   "outputs": [],
   "source": [
    "word_list=os.listdir(r'C:\\Users\\User\\Desktop\\천안10.14\\v0.2_읍면동 qgis\\도로연장')\n",
    "search='.xlsx'\n",
    "word_list = [word.strip(search) for word in word_list ] \n",
    "acc=pd.DataFrame()\n",
    "for j in word_list:\n",
    "    data=pd.read_excel(f'C:\\\\Users\\\\User\\\\Desktop\\\\천안10.14\\\\v0.2_읍면동 qgis\\\\도로연장\\\\{j}.xlsx')\n",
    "    data['행정동']=j\n",
    "    data['도로연장']=data['length'].sum()\n",
    "    data=data.drop(['id','length'],axis=1)\n",
    "    data=data.drop_duplicates()\n",
    "    acc=pd.concat([acc,data])\n",
    "os.chdir(r'C:\\Users\\User\\Desktop\\천안10.14\\v0.2_읍면동 qgis\\행정동별 도로연장 및 지역계수')    \n",
    "acc.to_csv('행정동별_도로연장.csv',encoding='utf-8-sig',index=False)    \n",
    "\n",
    "person=pd.read_excel(r'C:\\Users\\User\\Desktop\\천안10.14\\v0.2_읍면동 qgis\\행정동별 도로연장 및 지역계수\\연도별 인구수.xlsx')\n",
    "total=pd.merge(acc,person,how='left',on='행정동')\n",
    "total=total.set_index('행정동')\n",
    "total['2020지역계수']=np.sqrt(total['2020인구수']*total['도로연장'])\n",
    "total['2021지역계수']=np.sqrt(total['2021인구수']*total['도로연장'])\n",
    "total.to_csv('행정동별_도로연장(인구 및 지역계수 추가).csv',encoding='utf-8-sig')"
   ]
  },
  {
   "cell_type": "markdown",
   "id": "b18ba087",
   "metadata": {},
   "source": [
    "# 세부지표점수"
   ]
  },
  {
   "cell_type": "code",
   "execution_count": 5,
   "id": "70b13743",
   "metadata": {},
   "outputs": [],
   "source": [
    "year=['2020','2021']\n",
    "for q in year:\n",
    "    filename=os.listdir(f'C:\\\\Users\\\\User\\\\Desktop\\\\천안10.14\\\\v0.1_사고\\\\세부지표완료\\\\{q}')\n",
    "    os.chdir(f'C:\\\\Users\\\\User\\\\Desktop\\\\천안10.14\\\\v0.1_사고\\\\세부지표점수\\\\{q}')\n",
    "    for i in filename:\n",
    "        acc_total=pd.DataFrame()\n",
    "        for w in range(len(os.listdir(f'C:\\\\Users\\\\User\\\\Desktop\\\\천안10.14\\\\v0.1_사고\\\\세부지표완료\\\\{q}\\\\{i}'))):\n",
    "            filename2=os.listdir(f'C:\\\\Users\\\\User\\\\Desktop\\\\천안10.14\\\\v0.1_사고\\\\세부지표완료\\\\{q}\\\\{i}') \n",
    "            acc=pd.read_csv(f'C:\\\\Users\\\\User\\\\Desktop\\\\천안10.14\\\\v0.1_사고\\\\세부지표완료\\\\{q}\\\\{i}\\\\{filename2[w][:-4]}.csv')\n",
    "            if filename2[w][-11:-9]=='사망':\n",
    "                acc['사상자수']=acc['사망자수']*1+acc['중상자수']*(28.8/198)+acc['경상자수']*(2/198)+acc['부상신고자수']*(1/198)\n",
    "            elif filename2[w][-11:-9]=='중상':\n",
    "                acc['사상자수']=acc['중상자수']*1+acc['경상자수']*(2.1/29.9)+acc['부상신고자수']*(1/29.9)\n",
    "            elif filename2[w][-11:-9]=='경상':\n",
    "                acc['사상자수']=acc['경상자수']*1+acc['부상신고자수']*(1/2.1)\n",
    "            else:\n",
    "                acc['사상자수']=acc['부상신고자수']*1\n",
    "                \n",
    "            acc['사고 및 사상자수']=acc['사고건수']*acc['사상자수']\n",
    "            acc=pd.merge(total,acc,how='left',on='행정동')\n",
    "            acc['사고 및 사상자수']=acc['사고 및 사상자수'].replace(np.NaN,0)\n",
    "            acc['지표점수']=acc['사고 및 사상자수']/acc[f'{q}지역계수']\n",
    "            acc=acc[['행정동','지표점수']]\n",
    "            acc=acc.set_index('행정동')\n",
    "            acc[f'{filename2[w][:-4]}Z-score']= (acc['지표점수'] - acc['지표점수'].mean(axis=0)) /acc['지표점수'].std(axis=0)\n",
    "            acc=acc.drop('지표점수',axis=1)\n",
    "            acc=(acc-(-2.0))/(7.5-(-2.0))# 최대-최소 정규화\n",
    "            if acc.columns[0][-14:-12]=='사망':\n",
    "                acc[f'{filename2[w][:-4]}Z-score']=acc[f'{filename2[w][:-4]}Z-score']*0.6\n",
    "            elif acc.columns[0][-14:-12]=='중상':\n",
    "                acc[f'{filename2[w][:-4]}Z-score']=acc[f'{filename2[w][:-4]}Z-score']*0.2\n",
    "            elif acc.columns[0][-14:-12]=='경상':\n",
    "                acc[f'{filename2[w][:-4]}Z-score']=acc[f'{filename2[w][:-4]}Z-score']*0.15\n",
    "            elif acc.columns[0][-14:-12]=='부상':        \n",
    "                acc[f'{filename2[w][:-4]}Z-score']=acc[f'{filename2[w][:-4]}Z-score']*0.05\n",
    "            else:\n",
    "                continue\n",
    "\n",
    "            acc_total=pd.concat([acc_total,acc])\n",
    "        acc_total=acc_total.groupby('행정동').sum()\n",
    "        acc_total=pd.DataFrame(acc_total.sum(axis=1))\n",
    "        acc_total=acc_total.rename(columns={0:f'{filename2[w][:-12]}'})\n",
    "        acc_total.to_csv(f'{i}세부지표점수.csv',encoding='utf-8-sig')"
   ]
  },
  {
   "cell_type": "markdown",
   "id": "50945772",
   "metadata": {},
   "source": [
    "# 백분위 세부지표점수 구하기"
   ]
  },
  {
   "cell_type": "code",
   "execution_count": 6,
   "id": "7f3cc9d7",
   "metadata": {},
   "outputs": [],
   "source": [
    "file=os.listdir(r'C:\\Users\\User\\Desktop\\천안10.14\\v0.1_사고\\세부지표점수')\n",
    "year=['2020','2021']\n",
    "for q in year:\n",
    "    file=os.listdir(f'C:\\\\Users\\\\User\\\\Desktop\\\\천안10.14\\\\v0.1_사고\\세부지표점수\\\\{q}')\n",
    "    os.chdir(f'C:\\\\Users\\\\User\\\\Desktop\\\\천안10.14\\\\v0.1_사고\\\\백분위세부지표점수\\\\{q}')\n",
    "    for i in file:\n",
    "        data=pd.read_csv(f'C:\\\\Users\\\\User\\\\Desktop\\\\천안10.14\\\\v0.1_사고\\\\세부지표점수\\\\{q}\\\\{i}')\n",
    "        data=data.set_index('행정동')\n",
    "        data[f'{data.columns[0]}_세부지표점수']=(1-data[data.columns[0]])*100\n",
    "        data=data.drop(f'{data.columns[0]}',axis=1)\n",
    "        data.to_csv(f'{i}',encoding='utf-8-sig')"
   ]
  },
  {
   "cell_type": "markdown",
   "id": "08ceda92",
   "metadata": {},
   "source": [
    "# 연도별 최종교통안전지수 산출"
   ]
  },
  {
   "cell_type": "code",
   "execution_count": 7,
   "id": "0420e03a",
   "metadata": {},
   "outputs": [],
   "source": [
    "year=['2020','2021']\n",
    "for q in year:\n",
    "    car=pd.DataFrame(data.index,columns=['행정동'])\n",
    "    car=car.astype({'행정동':'object'})\n",
    "    bike=pd.DataFrame(data.index,columns=['행정동'])\n",
    "    bike=bike.astype({'행정동':'object'})\n",
    "    per=pd.DataFrame(data.index,columns=['행정동'])\n",
    "    per=per.astype({'행정동':'object'})\n",
    "    baby=pd.DataFrame(data.index,columns=['행정동'])\n",
    "    baby=baby.astype({'행정동':'object'})\n",
    "    traffic=pd.DataFrame(data.index,columns=['행정동'])\n",
    "    traffic=traffic.astype({'행정동':'object'})\n",
    "    road=pd.DataFrame(data.index,columns=['행정동'])\n",
    "    road=road.astype({'행정동':'object'})\n",
    "    for i in os.listdir(f'C:\\\\Users\\\\User\\\\Desktop\\\\천안10.14\\\\v0.1_사고\\\\세부지표완료\\\\{q}'):\n",
    "            os.chdir(f'C:\\\\Users\\\\User\\\\Desktop\\\\천안10.14\\\\v0.1_사고\\\\백분위세부지표점수\\\\{q}')\n",
    "            data=pd.read_csv(f'{i}세부지표점수.csv')\n",
    "            if (i[:2]=='버스' or i[:2]=='택시'or i[:2]=='화물'or i[:2]=='렌터'):\n",
    "                car=pd.merge(car,data,how='left',on='행정동')\n",
    "                car=car.set_index('행정동')\n",
    "\n",
    "\n",
    "            elif (i[:2]=='자전' or i[:2]=='이륜'):\n",
    "                bike=pd.merge(bike,data,how='left',on='행정동')\n",
    "                bike=bike.set_index('행정동')\n",
    "\n",
    "\n",
    "            elif (i[:2]=='횡단' or i[:2]=='차도' or i[:2]=='길가' or i[:2]=='보도'):\n",
    "                per=pd.merge(per,data,how='left',on='행정동')\n",
    "                per=per.set_index('행정동')\n",
    "\n",
    "\n",
    "            elif (i[:2]=='어린' or i[:2]=='노인'):\n",
    "                baby=pd.merge(baby,data,how='left',on='행정동')    \n",
    "                baby=baby.set_index('행정동')\n",
    "\n",
    "\n",
    "            elif (i[:2]=='과속' or i[:2]=='신호' or i[:2]=='음주' or i[:2]=='중앙'):\n",
    "                traffic=pd.merge(traffic,data,how='left',on='행정동')  \n",
    "                traffic=traffic.set_index('행정동')\n",
    "\n",
    "            else:\n",
    "                road=pd.merge(road,data,how='left',on='행정동')\n",
    "                road=road.set_index('행정동')\n",
    "\n",
    "\n",
    "    os.chdir(f'C:\\\\Users\\\\User\\\\Desktop\\\\천안10.14\\\\v0.1_사고\\\\영역별 점수\\\\{q}') \n",
    "    car['사업용자동차']=car.mean(axis=1)\n",
    "    car=car.loc[:, car.columns == '사업용자동차']\n",
    "    bike['자전거및이륜차']=bike.mean(axis='columns')\n",
    "    bike=bike.loc[:, bike.columns == '자전거및이륜차']\n",
    "    per['보행자']=per.mean(axis='columns')\n",
    "    per=per.loc[:, per.columns == '보행자']  \n",
    "    baby['교통약자']=baby.mean(axis='columns')\n",
    "    baby=baby.loc[:, baby.columns == '교통약자']\n",
    "    traffic['운전자']=traffic.mean(axis='columns')\n",
    "    traffic=traffic.loc[:, traffic.columns == '운전자']              \n",
    "    road['도로환경']=road.mean(axis='columns')\n",
    "    road=road.loc[:, road.columns == '도로환경']  \n",
    "    os.chdir(f'C:\\\\Users\\\\User\\\\Desktop\\\\천안10.14\\\\v0.1_사고\\\\영역별 점수\\\\{q}')            \n",
    "    car.to_csv('사업용자동차.csv',encoding='utf-8-sig')\n",
    "    bike.to_csv('자전거및이륜차.csv',encoding='utf-8-sig')\n",
    "    per.to_csv('보행자.csv',encoding='utf-8-sig')\n",
    "    baby.to_csv('교통약자.csv',encoding='utf-8-sig')\n",
    "    traffic.to_csv('운전자.csv',encoding='utf-8-sig')\n",
    "    road.to_csv('도로환경.csv',encoding='utf-8-sig')\n",
    "    dfs = [car,bike,per,baby,traffic,road]\n",
    "    data = reduce(lambda a, b: pd.merge(a, b, how='left',on='행정동'), dfs)\n",
    "    data['최종교통안전지수']=data.mean(axis=1)\n",
    "    os.chdir(f'C:\\\\Users\\\\User\\\\Desktop\\\\천안10.14\\\\v0.1_사고\\\\최종교통안전지수\\\\{q}') \n",
    "    data=data.sort_values(by='최종교통안전지수',ascending=False)\n",
    "    data.to_csv(f'{q}최종교통안전지수.csv',encoding='utf-8-sig')"
   ]
  },
  {
   "cell_type": "markdown",
   "id": "2a4e4a85",
   "metadata": {},
   "source": [
    "# 주성분분석"
   ]
  },
  {
   "cell_type": "code",
   "execution_count": 8,
   "id": "860ba2b8",
   "metadata": {},
   "outputs": [],
   "source": [
    "data=pd.read_csv(r'C:\\Users\\User\\Desktop\\천안10.14\\v0.1_사고\\최종교통안전지수\\2021\\2021최종교통안전지수.csv')"
   ]
  },
  {
   "cell_type": "code",
   "execution_count": 11,
   "id": "636297bb",
   "metadata": {},
   "outputs": [],
   "source": [
    "jisu=data.drop('최종교통안전지수',axis=1)\n",
    "jisu.keys()\n",
    "columns=['사업용자동차', '자전거및이륜차', '보행자', '교통약자', '운전자', '도로환경']\n",
    "labels=np.array(jisu['행정동'])\n",
    "jisu=jisu.drop(['행정동'],axis=1)\n",
    "jisu.index=labels"
   ]
  },
  {
   "cell_type": "code",
   "execution_count": 12,
   "id": "522b2c0e",
   "metadata": {},
   "outputs": [
    {
     "data": {
      "text/plain": [
       "0    0.600576\n",
       "1    0.799052\n",
       "2    0.902013\n",
       "3    0.951209\n",
       "4    0.979215\n",
       "5    1.000000\n",
       "dtype: float64"
      ]
     },
     "execution_count": 12,
     "metadata": {},
     "output_type": "execute_result"
    }
   ],
   "source": [
    "pca=PCA()\n",
    "pca.fit(jisu)\n",
    "score=pca.transform(jisu)\n",
    "ratio=pca.explained_variance_ratio_\n",
    "pd.Series(np.cumsum(ratio))"
   ]
  },
  {
   "cell_type": "markdown",
   "id": "b61883f1",
   "metadata": {},
   "source": [
    "### 3개의 차원으로 축소시 90%설명가능"
   ]
  },
  {
   "cell_type": "code",
   "execution_count": 13,
   "id": "83fb7012",
   "metadata": {},
   "outputs": [],
   "source": [
    "pca=PCA(n_components=3)\n",
    "x_pca=pca.fit_transform(jisu)\n",
    "pca_data=pd.DataFrame(x_pca)"
   ]
  },
  {
   "cell_type": "code",
   "execution_count": 14,
   "id": "f2971079",
   "metadata": {
    "scrolled": true
   },
   "outputs": [],
   "source": [
    "pca_data.index=labels\n",
    "pca_data=pca_data.rename(columns={0:'PC1',1:'PC2',2:'PC3'})"
   ]
  },
  {
   "cell_type": "markdown",
   "id": "a75afee3",
   "metadata": {},
   "source": [
    "# 최적의 군집 수 결정 방법"
   ]
  },
  {
   "cell_type": "markdown",
   "id": "8877bd4c",
   "metadata": {},
   "source": [
    "## 1. 엘보우 method"
   ]
  },
  {
   "cell_type": "code",
   "execution_count": 15,
   "id": "46a8fc73",
   "metadata": {},
   "outputs": [
    {
     "name": "stderr",
     "output_type": "stream",
     "text": [
      "C:\\Users\\User\\anaconda3\\lib\\site-packages\\sklearn\\cluster\\_kmeans.py:1036: UserWarning: KMeans is known to have a memory leak on Windows with MKL, when there are less chunks than available threads. You can avoid it by setting the environment variable OMP_NUM_THREADS=1.\n",
      "  warnings.warn(\n"
     ]
    },
    {
     "data": {
      "image/png": "[encoded data removed]",
      "text/plain": [
       "<Figure size 432x288 with 1 Axes>"
      ]
     },
     "metadata": {},
     "output_type": "display_data"
    }
   ],
   "source": [
    "dist=[]\n",
    "for i in range(1,10):\n",
    "    km=KMeans(n_clusters=i,init='k-means++',n_init=10,max_iter=300,random_state=0)\n",
    "    km.fit(pca_data)\n",
    "    dist.append(km.inertia_)\n",
    "    \n",
    "plt.plot(range(1,10), dist,marker='o')\n",
    "plt.xlabel('Number of clusters')\n",
    "plt.ylabel('dist')\n",
    "plt.tight_layout()\n",
    "plt.show()"
   ]
  },
  {
   "cell_type": "markdown",
   "id": "7535a692",
   "metadata": {},
   "source": [
    "## 2. Silhoutte 방법"
   ]
  },
  {
   "cell_type": "code",
   "execution_count": 17,
   "id": "21f1beb9",
   "metadata": {
    "scrolled": true
   },
   "outputs": [
    {
     "data": {
      "image/png": "[encoded data removed]",
      "text/plain": [
       "<Figure size 432x288 with 1 Axes>"
      ]
     },
     "metadata": {},
     "output_type": "display_data"
    }
   ],
   "source": [
    "sil=[]\n",
    "for i in range(2,10):\n",
    "    km=KMeans(n_clusters=i,init='k-means++')\n",
    "    pred=km.fit_predict(pca_data)\n",
    "    sil.append(np.mean(silhouette_samples(pca_data,pred,metric='euclidean')))\n",
    "    \n",
    "plt.plot(range(2,10),sil,marker='o')\n",
    "plt.xlabel('Number of clusters')\n",
    "plt.ylabel('Sil')\n",
    "plt.show()"
   ]
  },
  {
   "cell_type": "markdown",
   "id": "2e835672",
   "metadata": {},
   "source": [
    "#  군집분석(4개의 군집으로)"
   ]
  },
  {
   "cell_type": "code",
   "execution_count": 18,
   "id": "c2206503",
   "metadata": {},
   "outputs": [],
   "source": [
    "dist=[]\n",
    "km=KMeans(n_clusters=4,init='k-means++',random_state=0)\n",
    "clusters=km.fit(pca_data)\n",
    "pca_data['cluster']=clusters.labels_"
   ]
  },
  {
   "cell_type": "code",
   "execution_count": 19,
   "id": "6b04bf32",
   "metadata": {},
   "outputs": [
    {
     "data": {
      "image/png": "[encoded data removed]",
      "text/plain": [
       "<Figure size 720x720 with 1 Axes>"
      ]
     },
     "metadata": {},
     "output_type": "display_data"
    }
   ],
   "source": [
    "color=[]\n",
    "for n in pca_data['cluster']:\n",
    "    if n==0:\n",
    "        color.append('red')\n",
    "    elif n==1:\n",
    "        color.append('green')\n",
    "    elif n==2:\n",
    "        color.append('black')\n",
    "    else:\n",
    "        color.append('blue')\n",
    "\n",
    "fig = plt.figure(figsize=(10, 10))\n",
    "ax = fig.add_subplot(111, projection='3d')\n",
    "ax.scatter(pca_data['PC1'], pca_data['PC2'], pca_data['PC3'], c=color, marker='o', s=100)\n",
    "ax.set_xlabel('PC1')\n",
    "ax.set_ylabel('PC2')\n",
    "ax.set_zlabel('PC3')\n",
    "\n",
    "plt.show()"
   ]
  },
  {
   "cell_type": "markdown",
   "id": "5ff4502d",
   "metadata": {},
   "source": [
    "## (0그룹 : 21개 지역), (1그룹 : 4개지역), (2그룹 : 2개지역), (3그룹 : 3개지역)"
   ]
  },
  {
   "cell_type": "code",
   "execution_count": 20,
   "id": "7bfda3cb",
   "metadata": {},
   "outputs": [],
   "source": [
    "jisu['cluster']=pca_data['cluster']"
   ]
  },
  {
   "cell_type": "code",
   "execution_count": 21,
   "id": "0dea1011",
   "metadata": {},
   "outputs": [
    {
     "data": {
      "text/html": [
       "<div>\n",
       "<style scoped>\n",
       "    .dataframe tbody tr th:only-of-type {\n",
       "        vertical-align: middle;\n",
       "    }\n",
       "\n",
       "    .dataframe tbody tr th {\n",
       "        vertical-align: top;\n",
       "    }\n",
       "\n",
       "    .dataframe thead th {\n",
       "        text-align: right;\n",
       "    }\n",
       "</style>\n",
       "<table border=\"1\" class=\"dataframe\">\n",
       "  <thead>\n",
       "    <tr style=\"text-align: right;\">\n",
       "      <th></th>\n",
       "      <th>사업용자동차</th>\n",
       "      <th>자전거및이륜차</th>\n",
       "      <th>보행자</th>\n",
       "      <th>교통약자</th>\n",
       "      <th>운전자</th>\n",
       "      <th>도로환경</th>\n",
       "    </tr>\n",
       "    <tr>\n",
       "      <th>cluster</th>\n",
       "      <th></th>\n",
       "      <th></th>\n",
       "      <th></th>\n",
       "      <th></th>\n",
       "      <th></th>\n",
       "      <th></th>\n",
       "    </tr>\n",
       "  </thead>\n",
       "  <tbody>\n",
       "    <tr>\n",
       "      <th>0</th>\n",
       "      <td>21</td>\n",
       "      <td>21</td>\n",
       "      <td>21</td>\n",
       "      <td>21</td>\n",
       "      <td>21</td>\n",
       "      <td>21</td>\n",
       "    </tr>\n",
       "    <tr>\n",
       "      <th>1</th>\n",
       "      <td>2</td>\n",
       "      <td>2</td>\n",
       "      <td>2</td>\n",
       "      <td>2</td>\n",
       "      <td>2</td>\n",
       "      <td>2</td>\n",
       "    </tr>\n",
       "    <tr>\n",
       "      <th>2</th>\n",
       "      <td>4</td>\n",
       "      <td>4</td>\n",
       "      <td>4</td>\n",
       "      <td>4</td>\n",
       "      <td>4</td>\n",
       "      <td>4</td>\n",
       "    </tr>\n",
       "    <tr>\n",
       "      <th>3</th>\n",
       "      <td>3</td>\n",
       "      <td>3</td>\n",
       "      <td>3</td>\n",
       "      <td>3</td>\n",
       "      <td>3</td>\n",
       "      <td>3</td>\n",
       "    </tr>\n",
       "  </tbody>\n",
       "</table>\n",
       "</div>"
      ],
      "text/plain": [
       "         사업용자동차  자전거및이륜차  보행자  교통약자  운전자  도로환경\n",
       "cluster                                       \n",
       "0            21       21   21    21   21    21\n",
       "1             2        2    2     2    2     2\n",
       "2             4        4    4     4    4     4\n",
       "3             3        3    3     3    3     3"
      ]
     },
     "execution_count": 21,
     "metadata": {},
     "output_type": "execute_result"
    }
   ],
   "source": [
    "jisu.groupby('cluster').count()"
   ]
  },
  {
   "cell_type": "markdown",
   "id": "50cb55e4",
   "metadata": {},
   "source": [
    "## 그룹별 평균"
   ]
  },
  {
   "cell_type": "markdown",
   "id": "d3d9bb0e",
   "metadata": {},
   "source": [
    "### 그룹 0의 경우 평균 세부지표점수가 80점을 넘는 수치 기록\n",
    "### 그룹 1(불당동, 성정2동)의 경우 자전거 및 이륜차, 운전자, 도로환경이 낮은 수치 기록\n",
    "### 그룹 2(목천읍, 문성동, 직산읍, 중앙동)의 경우 사업용자동차, 교통약자, 도로환경이 낮은 수치 기록\n",
    "### 그룹 3(부성1동, 부성2동, 신안동)의 경우 사업용자동차, 운전자, 도로환경이 낮은 수치 기록"
   ]
  },
  {
   "cell_type": "code",
   "execution_count": 22,
   "id": "ef9c7cf9",
   "metadata": {
    "scrolled": true
   },
   "outputs": [
    {
     "data": {
      "text/html": [
       "<div>\n",
       "<style scoped>\n",
       "    .dataframe tbody tr th:only-of-type {\n",
       "        vertical-align: middle;\n",
       "    }\n",
       "\n",
       "    .dataframe tbody tr th {\n",
       "        vertical-align: top;\n",
       "    }\n",
       "\n",
       "    .dataframe thead th {\n",
       "        text-align: right;\n",
       "    }\n",
       "</style>\n",
       "<table border=\"1\" class=\"dataframe\">\n",
       "  <thead>\n",
       "    <tr style=\"text-align: right;\">\n",
       "      <th></th>\n",
       "      <th>사업용자동차</th>\n",
       "      <th>자전거및이륜차</th>\n",
       "      <th>보행자</th>\n",
       "      <th>교통약자</th>\n",
       "      <th>운전자</th>\n",
       "      <th>도로환경</th>\n",
       "    </tr>\n",
       "    <tr>\n",
       "      <th>cluster</th>\n",
       "      <th></th>\n",
       "      <th></th>\n",
       "      <th></th>\n",
       "      <th></th>\n",
       "      <th></th>\n",
       "      <th></th>\n",
       "    </tr>\n",
       "  </thead>\n",
       "  <tbody>\n",
       "    <tr>\n",
       "      <th>0</th>\n",
       "      <td>81.186325</td>\n",
       "      <td>86.843747</td>\n",
       "      <td>89.575133</td>\n",
       "      <td>86.802171</td>\n",
       "      <td>84.500303</td>\n",
       "      <td>82.128675</td>\n",
       "    </tr>\n",
       "    <tr>\n",
       "      <th>1</th>\n",
       "      <td>78.320957</td>\n",
       "      <td>67.724149</td>\n",
       "      <td>88.152136</td>\n",
       "      <td>83.244668</td>\n",
       "      <td>71.592449</td>\n",
       "      <td>68.939901</td>\n",
       "    </tr>\n",
       "    <tr>\n",
       "      <th>2</th>\n",
       "      <td>74.944853</td>\n",
       "      <td>85.181182</td>\n",
       "      <td>84.657688</td>\n",
       "      <td>77.477182</td>\n",
       "      <td>82.680701</td>\n",
       "      <td>69.791323</td>\n",
       "    </tr>\n",
       "    <tr>\n",
       "      <th>3</th>\n",
       "      <td>71.660546</td>\n",
       "      <td>86.001008</td>\n",
       "      <td>85.539590</td>\n",
       "      <td>86.217029</td>\n",
       "      <td>74.212857</td>\n",
       "      <td>75.557928</td>\n",
       "    </tr>\n",
       "  </tbody>\n",
       "</table>\n",
       "</div>"
      ],
      "text/plain": [
       "            사업용자동차    자전거및이륜차        보행자       교통약자        운전자       도로환경\n",
       "cluster                                                                  \n",
       "0        81.186325  86.843747  89.575133  86.802171  84.500303  82.128675\n",
       "1        78.320957  67.724149  88.152136  83.244668  71.592449  68.939901\n",
       "2        74.944853  85.181182  84.657688  77.477182  82.680701  69.791323\n",
       "3        71.660546  86.001008  85.539590  86.217029  74.212857  75.557928"
      ]
     },
     "execution_count": 22,
     "metadata": {},
     "output_type": "execute_result"
    }
   ],
   "source": [
    "jisu.groupby('cluster').mean()"
   ]
  }
 ],
 "metadata": {
  "kernelspec": {
   "display_name": "Python 3 (ipykernel)",
   "language": "python",
   "name": "python3"
  },
  "language_info": {
   "codemirror_mode": {
    "name": "ipython",
    "version": 3
   },
   "file_extension": ".py",
   "mimetype": "text/x-python",
   "name": "python",
   "nbconvert_exporter": "python",
   "pygments_lexer": "ipython3",
   "version": "3.11.3"
  }
 },
 "nbformat": 4,
 "nbformat_minor": 5
}
